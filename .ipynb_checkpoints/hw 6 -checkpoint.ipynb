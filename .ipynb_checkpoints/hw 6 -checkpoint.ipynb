{
 "cells": [
  {
   "cell_type": "code",
   "execution_count": 4,
   "metadata": {
    "collapsed": false
   },
   "outputs": [
    {
     "name": "stdout",
     "output_type": "stream",
     "text": [
      "The IOB format categorizes tagged tokens as I, O and B. Why are three tags necessary? What problem would be caused if we used I and O tags exclusively?\n",
      "\n",
      "IOB stands for Inside, outside and begining tags. B marks the begining of the token, if we did not have it, it would not be possible to identify tokens if they appear next to each other\n"
     ]
    }
   ],
   "source": [
    "print('The IOB format categorizes tagged tokens as I, O and B. Why are three tags necessary? What problem would be caused if we used I and O tags exclusively?')\n",
    "print('\\nIOB stands for Inside, outside and begining tags. B marks the begining of the token, if we did not have it, it would not be possible to identify tokens if they appear next to each other')"
   ]
  },
  {
   "cell_type": "code",
   "execution_count": 11,
   "metadata": {
    "collapsed": false
   },
   "outputs": [
    {
     "name": "stdout",
     "output_type": "stream",
     "text": [
      "Write a tag pattern to match noun phrases containing plural head nouns, e.g. \"many/JJ researchers/NNS\", \"two/CD weeks/NNS\", \"both/DT new/JJ positions/NNS\". Try to do this by generalizing the tag pattern that handled singular noun phrases.\n",
      "\n",
      "import nltk\n",
      "grammar = \"PHN: {<[CDJT].*>+<NNS>}\"\n",
      "cp = nltk.RegexpParser(grammar)\n"
     ]
    }
   ],
   "source": [
    "print('Write a tag pattern to match noun phrases containing plural head nouns, e.g. \"many/JJ researchers/NNS\", \"two/CD weeks/NNS\", \"both/DT new/JJ positions/NNS\". Try to do this by generalizing the tag pattern that handled singular noun phrases.')\n",
    "\n",
    "print('\\nimport nltk')\n",
    "print('grammar = \"PHN: {<[CDJT].*>+<NNS>}\"')\n",
    "print('cp = nltk.RegexpParser(grammar)')"
   ]
  },
  {
   "cell_type": "code",
   "execution_count": 18,
   "metadata": {
    "collapsed": false
   },
   "outputs": [
    {
     "name": "stdout",
     "output_type": "stream",
     "text": [
      "Pick one of the three chunk types in the CoNLL corpus. Inspect the CoNLL corpus and try to observe any patterns in the POS tag sequences that make up this kind of chunk. Develop a simple chunker using the regular expression chunker nltk.RegexpParser. Discuss any tag sequences that are difficult to chunk reliably.\n",
      "\n",
      "\n",
      "(S (NP He/PRP) talked/VBD (NP about/IN 20/CD minutes/NNS) ./.)\n",
      "POS taging are PRP, VBD, IN, CD, NNS\n",
      "Text with noun phras has been filtered\n"
     ]
    }
   ],
   "source": [
    "print('Pick one of the three chunk types in the CoNLL corpus. Inspect the CoNLL corpus and try to observe any patterns in the POS tag sequences that make up this kind of chunk. Develop a simple chunker using the regular expression chunker nltk.RegexpParser. Discuss any tag sequences that are difficult to chunk reliably.')\n",
    "print('\\n')\n",
    "from nltk.corpus import conll2000\n",
    "print(conll2000.chunked_sents('train.txt', chunk_types=['NP'])[100]) \n",
    "print('POS taging are PRP, VBD, IN, CD, NNS')\n",
    "print('Text with noun phras has been filtered')\n",
    "\n"
   ]
  },
  {
   "cell_type": "code",
   "execution_count": 23,
   "metadata": {
    "collapsed": false
   },
   "outputs": [
    {
     "name": "stdout",
     "output_type": "stream",
     "text": [
      "An early definition of chunk was the material that occurs between chinks. Develop a chunker that starts by putting the whole sentence in a single chunk, and then does the rest of its work solely by chinking. Determine which tags (or tag sequences) are most likely to make up chinks with the help of your own utility program. Compare the performance and simplicity of this approach relative to a chunker based entirely on chunk rules.\n",
      "\n",
      "\n",
      "(S I/PRP (CHINK saw/VBD) the/DT green/JJ lantern/NN)\n"
     ]
    }
   ],
   "source": [
    "print('An early definition of chunk was the material that occurs between chinks. Develop a chunker that starts by putting the whole sentence in a single chunk, and then does the rest of its work solely by chinking. Determine which tags (or tag sequences) are most likely to make up chinks with the help of your own utility program. Compare the performance and simplicity of this approach relative to a chunker based entirely on chunk rules.')\n",
    "print('\\n')\n",
    "sentence = [(\"I\",\"PRP\"),(\"saw\",\"VBD\"),(\"the\",\"DT\"),(\"green\",\"JJ\"),(\"lantern\",\"NN\")]\n",
    "grammar = \"CHINK: {<VBD>}\"\n",
    "cp = nltk.RegexpParser(grammar)\n",
    "result = cp.parse(sentence)\n",
    "print(result)\n",
    "result.draw()\n",
    "\n",
    "\n"
   ]
  },
  {
   "cell_type": "code",
   "execution_count": 27,
   "metadata": {
    "collapsed": false
   },
   "outputs": [
    {
     "name": "stdout",
     "output_type": "stream",
     "text": [
      "Write a tag pattern to cover noun phrases that contain gerunds, e.g. \"the/DT receiving/VBG end/NN\", \"assistant/NN managing/VBG editor/NN\". Add these patterns to the grammar, one per line. Test your work using some tagged sentences of your own devising.\n",
      "\n",
      "\n",
      "(S\n",
      "  The/AT\n",
      "  Fulton/NP-TL\n",
      "  County/NN-TL\n",
      "  Grand/JJ-TL\n",
      "  Jury/NN-TL\n",
      "  said/VBD\n",
      "  Friday/NR\n",
      "  an/AT\n",
      "  investigation/NN\n",
      "  of/IN\n",
      "  Atlanta's/NP$\n",
      "  recent/JJ\n",
      "  primary/NN\n",
      "  election/NN\n",
      "  produced/VBD\n",
      "  ``/``\n",
      "  no/AT\n",
      "  evidence/NN\n",
      "  ''/''\n",
      "  that/CS\n",
      "  any/DTI\n",
      "  irregularities/NNS\n",
      "  took/VBD\n",
      "  place/NN\n",
      "  ./.)\n"
     ]
    }
   ],
   "source": [
    "print('Write a tag pattern to cover noun phrases that contain gerunds, e.g. \"the/DT receiving/VBG end/NN\", \"assistant/NN managing/VBG editor/NN\". Add these patterns to the grammar, one per line. Test your work using some tagged sentences of your own devising.')\n",
    "print('\\n')\n",
    "\n",
    "grammar = \"GRD: {<DT>|<NN><VBJ><NN>}\"\n",
    "cp = nltk.RegexpParser(grammar)\n",
    "brown = nltk.corpus.brown\n",
    "for sent in brown.tagged_sents():\n",
    "    result = cp.parse(sent)\n",
    "    print (result)\n",
    "    break\n",
    "    "
   ]
  },
  {
   "cell_type": "code",
   "execution_count": 29,
   "metadata": {
    "collapsed": false
   },
   "outputs": [
    {
     "name": "stdout",
     "output_type": "stream",
     "text": [
      "Write one or more tag patterns to handle coordinated noun phrases, e.g. \"July/NNP and/CC August/NNP\", \"all/DT your/PRP$ managers/NNS and/CC supervisors/NNS\", \"company/NN courts/NNS and/CC adjudicators/NNS\".\n",
      "\n",
      "\n",
      "(S (CNP July/NNP and/CC August/NNP))\n"
     ]
    }
   ],
   "source": [
    "print('Write one or more tag patterns to handle coordinated noun phrases, e.g. \"July/NNP and/CC August/NNP\", \"all/DT your/PRP$ managers/NNS and/CC supervisors/NNS\", \"company/NN courts/NNS and/CC adjudicators/NNS\".')\n",
    "print('\\n')\n",
    "sentence = [(\"July\",\"NNP\"),(\"and\",\"CC\"),(\"August\",\"NNP\")]\n",
    "grammar = \"CNP: {<NN[P|S]><CC><NN[P|S]>}\"\n",
    "cp = nltk.RegexpParser(grammar)\n",
    "brown = nltk.corpus.brown\n",
    "result = cp.parse(sentence)\n",
    "print (result)"
   ]
  },
  {
   "cell_type": "code",
   "execution_count": 32,
   "metadata": {
    "collapsed": false
   },
   "outputs": [
    {
     "name": "stdout",
     "output_type": "stream",
     "text": [
      "Carry out the following evaluation tasks for any of the chunkers you have developed earlier. (Note that most chunking corpora contain some internal inconsistencies, such that any reasonable rule-based approach will produce errors.) Evaluate your chunker on 100 sentences from a chunked corpus, and report the precision, recall and F-measure. Use the chunkscore.missed() and chunkscore.incorrect() methods to identify the errors made by your chunker. Discuss. Compare the performance of your chunker to the baseline chunker discussed in the evaluation section of this chapter.\n",
      "\n",
      "\n",
      "ChunkParse score:\n",
      "    IOB Accuracy:  87.7%\n",
      "    Precision:     70.6%\n",
      "    Recall:        67.8%\n",
      "    F-Measure:     69.2%\n",
      "ChunkParse score:\n",
      "    IOB Accuracy:  43.4%\n",
      "    Precision:      0.0%\n",
      "    Recall:         0.0%\n",
      "    F-Measure:      0.0%\n"
     ]
    }
   ],
   "source": [
    "print('Carry out the following evaluation tasks for any of the chunkers you have developed earlier. (Note that most chunking corpora contain some internal inconsistencies, such that any reasonable rule-based approach will produce errors.) Evaluate your chunker on 100 sentences from a chunked corpus, and report the precision, recall and F-measure. Use the chunkscore.missed() and chunkscore.incorrect() methods to identify the errors made by your chunker. Discuss. Compare the performance of your chunker to the baseline chunker discussed in the evaluation section of this chapter.')\n",
    "print('\\n')\n",
    "from nltk.corpus import conll2000\n",
    "from nltk.chunk import *\n",
    "from nltk.chunk.util import *\n",
    "grammar = r\"NP: {<[CDJNP].*>+}\"\n",
    "cp = nltk.RegexpParser(grammar)\n",
    "test_sents = conll2000.chunked_sents('test.txt', chunk_types=['NP'])\n",
    "print (cp.evaluate(test_sents))\n",
    "\n",
    "\n",
    "from nltk.corpus import conll2000\n",
    "grammar = \"\"\n",
    "cp = nltk.RegexpParser(grammar)\n",
    "test_sents = conll2000.chunked_sents('test.txt', chunk_types=['NP'])\n",
    "print (cp.evaluate(test_sents))"
   ]
  },
  {
   "cell_type": "code",
   "execution_count": null,
   "metadata": {
    "collapsed": true
   },
   "outputs": [],
   "source": []
  }
 ],
 "metadata": {
  "kernelspec": {
   "display_name": "Python 3",
   "language": "python",
   "name": "python3"
  },
  "language_info": {
   "codemirror_mode": {
    "name": "ipython",
    "version": 3
   },
   "file_extension": ".py",
   "mimetype": "text/x-python",
   "name": "python",
   "nbconvert_exporter": "python",
   "pygments_lexer": "ipython3",
   "version": "3.5.1"
  }
 },
 "nbformat": 4,
 "nbformat_minor": 0
}
